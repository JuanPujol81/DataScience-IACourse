{
 "cells": [
  {
   "cell_type": "code",
   "execution_count": 1,
   "metadata": {},
   "outputs": [
    {
     "name": "stdout",
     "output_type": "stream",
     "text": [
      "Es mayor de edad\n",
      "1\n",
      "2\n",
      "3\n",
      "4\n",
      "5\n"
     ]
    }
   ],
   "source": [
    "# Declaración de variables\n",
    "nombre = \"Juan\"\n",
    "edad = 30\n",
    "altura = 1.75\n",
    "\n",
    "# Operaciones matemáticas básicas\n",
    "suma = 5 + 3\n",
    "multiplicacion = 4 * 7\n",
    "division = 10 / 2\n",
    "\n",
    "# Listas y acceso a elementos\n",
    "numeros = [1, 2, 3, 4, 5]\n",
    "primer_numero = numeros[0]  # Acceder al primer elemento\n",
    "\n",
    "# Diccionarios y acceso a valores\n",
    "persona = {\"nombre\": \"Ana\", \"edad\": 25, \"ciudad\": \"Madrid\"}\n",
    "edad_persona = persona[\"edad\"]  # Acceder al valor de \"edad\"\n",
    "\n",
    "# Condicionales\n",
    "if edad > 18:\n",
    "    print(\"Es mayor de edad\")\n",
    "else:\n",
    "    print(\"Es menor de edad\")\n",
    "\n",
    "# Bucle for\n",
    "for numero in numeros:\n",
    "    print(numero)"
   ]
  },
  {
   "cell_type": "code",
   "execution_count": 2,
   "metadata": {},
   "outputs": [
    {
     "name": "stdout",
     "output_type": "stream",
     "text": [
      "[4, 5]\n",
      "{'nombre': 'Ana', 'edad': 26, 'ciudad': 'Barcelona'}\n"
     ]
    }
   ],
   "source": [
    "# Filtrar números mayores a 3 en una lista\n",
    "numeros = [1, 2, 3, 4, 5]\n",
    "mayores_a_tres = [n for n in numeros if n > 3]\n",
    "print(mayores_a_tres)\n",
    "\n",
    "# Añadir y modificar valores en un diccionario\n",
    "persona = {\"nombre\": \"Ana\", \"edad\": 25}\n",
    "persona[\"ciudad\"] = \"Barcelona\"  # Agregar nueva clave-valor\n",
    "persona[\"edad\"] = 26  # Modificar valor existente\n",
    "print(persona)"
   ]
  },
  {
   "cell_type": "markdown",
   "metadata": {},
   "source": [
    " Tarea:\n",
    "Define una función que reciba una lista de números y devuelva la suma de todos los valores.\n",
    "Crea un diccionario con información sobre un producto (nombre, precio, cantidad en stock) y actualiza su precio.\n",
    "Ejecuta el código en tu Jupyter Notebook y observa los resultados."
   ]
  },
  {
   "cell_type": "code",
   "execution_count": 3,
   "metadata": {},
   "outputs": [
    {
     "name": "stdout",
     "output_type": "stream",
     "text": [
      "15\n",
      "{'nombre': 'Champoo', 'precio': 8.87, 'cantidad en stock': 80}\n"
     ]
    }
   ],
   "source": [
    "def sumarTodos(list):\n",
    "    total = sum(list)\n",
    "    return total\n",
    "\n",
    "\n",
    "print(sumarTodos([1, 2, 3, 4, 5]))  # 15\n",
    "\n",
    "\n",
    "\n",
    "champoo = {\n",
    "    \"nombre\": \"Champoo\",\n",
    "    \"precio\": 7.87,\n",
    "    \"cantidad en stock\": 80\n",
    "}\n",
    "\n",
    "\n",
    "champoo[\"precio\"]= 8.87\n",
    "print(champoo)\n",
    "\n"
   ]
  }
 ],
 "metadata": {
  "kernelspec": {
   "display_name": "Python 3",
   "language": "python",
   "name": "python3"
  },
  "language_info": {
   "codemirror_mode": {
    "name": "ipython",
    "version": 3
   },
   "file_extension": ".py",
   "mimetype": "text/x-python",
   "name": "python",
   "nbconvert_exporter": "python",
   "pygments_lexer": "ipython3",
   "version": "3.12.1"
  }
 },
 "nbformat": 4,
 "nbformat_minor": 2
}
