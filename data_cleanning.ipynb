{
 "cells": [
  {
   "cell_type": "code",
   "execution_count": 2,
   "id": "bfd897cd",
   "metadata": {},
   "outputs": [
    {
     "name": "stdout",
     "output_type": "stream",
     "text": [
      "      Name   Age   Salary Department\n",
      "0    Alice  24.0  50000.0         HR\n",
      "1      Bob   NaN  60000.0    Finance\n",
      "2  Charlie  22.0      NaN         IT\n",
      "3     None  35.0  70000.0    Finance\n",
      "4      Eva  29.0  72000.0       None\n"
     ]
    }
   ],
   "source": [
    "import pandas as pd\n",
    "import numpy as np\n",
    "\n",
    "df = pd.DataFrame({\n",
    "    'Name': ['Alice', 'Bob', 'Charlie', None, 'Eva'],\n",
    "    'Age': [24, np.nan, 22, 35, 29],\n",
    "    'Salary': [50000, 60000, np.nan, 70000, 72000],\n",
    "    'Department': ['HR', 'Finance', 'IT', 'Finance', None]\n",
    "})\n",
    "\n",
    "print(df)"
   ]
  },
  {
   "cell_type": "code",
   "execution_count": 3,
   "id": "07ff5b26",
   "metadata": {},
   "outputs": [
    {
     "name": "stdout",
     "output_type": "stream",
     "text": [
      "Name          1\n",
      "Age           1\n",
      "Salary        1\n",
      "Department    1\n",
      "dtype: int64\n"
     ]
    }
   ],
   "source": [
    "print(df.isnull().sum())"
   ]
  },
  {
   "cell_type": "code",
   "execution_count": 4,
   "id": "b28fe151",
   "metadata": {},
   "outputs": [],
   "source": [
    "df['Age'] = df['Age'].fillna(df['Age'].mean())\n",
    "df['Salary'] = df['Salary'].fillna(df['Salary'].median())\n",
    "df['Department'] = df['Department'].fillna('Unknown')"
   ]
  },
  {
   "cell_type": "code",
   "execution_count": 5,
   "id": "d5452178",
   "metadata": {},
   "outputs": [
    {
     "name": "stdout",
     "output_type": "stream",
     "text": [
      "      Name   Age   Salary Department\n",
      "0    Alice  24.0  50000.0         HR\n",
      "1      Bob  27.5  60000.0    Finance\n",
      "2  Charlie  22.0  65000.0         IT\n",
      "3     None  35.0  70000.0    Finance\n",
      "4      Eva  29.0  72000.0    Unknown\n"
     ]
    }
   ],
   "source": [
    "print(df)"
   ]
  },
  {
   "cell_type": "code",
   "execution_count": 6,
   "id": "3a6781ca",
   "metadata": {},
   "outputs": [
    {
     "name": "stdout",
     "output_type": "stream",
     "text": [
      "Name          object\n",
      "Age            int64\n",
      "Salary         int64\n",
      "Department    object\n",
      "dtype: object\n"
     ]
    }
   ],
   "source": [
    "df['Age'] = df['Age'].astype(int)\n",
    "df['Salary'] = df['Salary'].astype(int)\n",
    "df['Department'] = df['Department'].astype(str)\n",
    "print(df.dtypes)"
   ]
  },
  {
   "cell_type": "code",
   "execution_count": 7,
   "id": "4152a511",
   "metadata": {},
   "outputs": [
    {
     "name": "stdout",
     "output_type": "stream",
     "text": [
      "0    False\n",
      "1    False\n",
      "2    False\n",
      "3    False\n",
      "4    False\n",
      "dtype: bool\n"
     ]
    }
   ],
   "source": [
    "print(df.duplicated())"
   ]
  },
  {
   "cell_type": "code",
   "execution_count": 8,
   "id": "c4687214",
   "metadata": {},
   "outputs": [
    {
     "name": "stdout",
     "output_type": "stream",
     "text": [
      "      Name  Age  Salary Department   taxes\n",
      "0    Alice   24   50000         HR  6000.0\n",
      "1      Bob   27   60000    Finance  7200.0\n",
      "2  Charlie   22   65000         IT  7800.0\n",
      "3     None   35   70000    Finance  8400.0\n",
      "4      Eva   29   72000    Unknown  8640.0\n"
     ]
    }
   ],
   "source": [
    "def calcular_impuesto(salary):\n",
    "    return salary * 0.12\n",
    "\n",
    "\n",
    "df['taxes']= df['Salary'].apply(calcular_impuesto)\n",
    "print(df)\n"
   ]
  },
  {
   "cell_type": "code",
   "execution_count": 9,
   "id": "af8c2868",
   "metadata": {},
   "outputs": [
    {
     "name": "stdout",
     "output_type": "stream",
     "text": [
      "     Name   Age   Salary Department\n",
      "0     Ana  25.0  50000.0     Ventas\n",
      "1    Luis   NaN  60000.0  Marketing\n",
      "2  Carlos  32.0      NaN         TI\n",
      "3     Ana  25.0  50000.0     Ventas\n",
      "4   Pedro  45.0  70000.0       None\n",
      "5    None  38.0  62000.0         TI\n"
     ]
    }
   ],
   "source": [
    "import pandas as pd\n",
    "import numpy as np\n",
    "\n",
    "df = pd.DataFrame({\n",
    "    'Name': ['Ana', 'Luis', 'Carlos', 'Ana', 'Pedro', None],\n",
    "        'Age': [25, np.nan, 32, 25, 45, 38],\n",
    "            'Salary': [50000, 60000, None, 50000, 70000, 62000],\n",
    "                'Department': ['Ventas', 'Marketing', 'TI', 'Ventas', None, 'TI']\n",
    "                })\n",
    "\n",
    "print(df)"
   ]
  },
  {
   "cell_type": "code",
   "execution_count": 10,
   "id": "36b0ca5d",
   "metadata": {},
   "outputs": [
    {
     "name": "stdout",
     "output_type": "stream",
     "text": [
      "Name          1\n",
      "Age           1\n",
      "Salary        1\n",
      "Department    1\n",
      "dtype: int64\n"
     ]
    }
   ],
   "source": [
    "print(df.isnull().sum())"
   ]
  },
  {
   "cell_type": "code",
   "execution_count": 15,
   "id": "5b379af9",
   "metadata": {},
   "outputs": [
    {
     "name": "stdout",
     "output_type": "stream",
     "text": [
      "      Name   Age   Salary Department\n",
      "0      Ana  25.0  50000.0     Ventas\n",
      "1     Luis   NaN  60000.0  Marketing\n",
      "2   Carlos  32.0  70000.0         TI\n",
      "3    Pedro  45.0  62000.0         TI\n",
      "4   Carlos  56.0      NaN     Ventas\n",
      "5  Richard   NaN  70000.0  Marketing\n",
      "6      Ana  25.0  50000.0     Ventas\n"
     ]
    }
   ],
   "source": [
    "import pandas as pd\n",
    "import numpy as np\n",
    "empleados = pd.DataFrame({\n",
    "    'Name': ['Ana', 'Luis', 'Carlos', 'Pedro', 'Carlos', 'Richard', 'Ana'],\n",
    "    'Age': [25, None, 32, 45, 56, None, 25],\n",
    "    'Salary': [50000, 60000, 70000, 62000, None, 70000, 50000],\n",
    "    'Department': ['Ventas', 'Marketing', 'TI', 'TI', 'Ventas', 'Marketing', 'Ventas']\n",
    "})\n",
    "print(empleados)"
   ]
  },
  {
   "cell_type": "code",
   "execution_count": 16,
   "id": "217404e1",
   "metadata": {},
   "outputs": [
    {
     "name": "stdout",
     "output_type": "stream",
     "text": [
      "      Name   Age   Salary Department\n",
      "0      Ana  25.0  50000.0     Ventas\n",
      "1     Luis  32.0  60000.0  Marketing\n",
      "2   Carlos  32.0  70000.0         TI\n",
      "3    Pedro  45.0  62000.0         TI\n",
      "4   Carlos  56.0      NaN     Ventas\n",
      "5  Richard  32.0  70000.0  Marketing\n",
      "6      Ana  25.0  50000.0     Ventas\n"
     ]
    }
   ],
   "source": [
    "empleados['Age'] = empleados['Age'].fillna(empleados['Age'].median())\n",
    "print(empleados)"
   ]
  },
  {
   "cell_type": "code",
   "execution_count": 17,
   "id": "6d167f8d",
   "metadata": {},
   "outputs": [
    {
     "name": "stdout",
     "output_type": "stream",
     "text": [
      "      Name   Age   Salary Department\n",
      "0      Ana  25.0  50000.0     Ventas\n",
      "1     Luis  32.0  60000.0  Marketing\n",
      "2   Carlos  32.0  70000.0         TI\n",
      "3    Pedro  45.0  62000.0         TI\n",
      "5  Richard  32.0  70000.0  Marketing\n",
      "6      Ana  25.0  50000.0     Ventas\n",
      "      Name   Age   Salary Department\n",
      "0      Ana  25.0  50000.0     Ventas\n",
      "1     Luis  32.0  60000.0  Marketing\n",
      "2   Carlos  32.0  70000.0         TI\n",
      "3    Pedro  45.0  62000.0         TI\n",
      "5  Richard  32.0  70000.0  Marketing\n"
     ]
    }
   ],
   "source": [
    "empleados.dropna(subset=['Salary'], inplace=True)\n",
    "print(empleados)\n",
    "\n",
    "empleados.drop_duplicates(subset = ['Name'], inplace=True)\n",
    "print(empleados)"
   ]
  },
  {
   "cell_type": "code",
   "execution_count": 18,
   "id": "f433ae16",
   "metadata": {},
   "outputs": [
    {
     "name": "stdout",
     "output_type": "stream",
     "text": [
      "      Name   Age   Salary Department  Salario Neto\n",
      "0      Ana  25.0  50000.0     Ventas       42500.0\n",
      "1     Luis  32.0  60000.0  Marketing       51000.0\n",
      "2   Carlos  32.0  70000.0         TI       59500.0\n",
      "3    Pedro  45.0  62000.0         TI       52700.0\n",
      "5  Richard  32.0  70000.0  Marketing       59500.0\n"
     ]
    }
   ],
   "source": [
    "def salario_neto(salario):\n",
    "    return salario * 0.85\n",
    "\n",
    "empleados['Salario Neto'] = empleados['Salary'].apply(salario_neto)\n",
    "print(empleados)"
   ]
  }
 ],
 "metadata": {
  "kernelspec": {
   "display_name": "Python 3",
   "language": "python",
   "name": "python3"
  },
  "language_info": {
   "codemirror_mode": {
    "name": "ipython",
    "version": 3
   },
   "file_extension": ".py",
   "mimetype": "text/x-python",
   "name": "python",
   "nbconvert_exporter": "python",
   "pygments_lexer": "ipython3",
   "version": "3.12.1"
  }
 },
 "nbformat": 4,
 "nbformat_minor": 5
}
