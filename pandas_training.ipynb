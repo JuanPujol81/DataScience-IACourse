{
 "cells": [
  {
   "cell_type": "code",
   "execution_count": 2,
   "metadata": {},
   "outputs": [],
   "source": [
    "import pandas as pd\n",
    "datos = pd.Series([10,20,30,40,50])"
   ]
  },
  {
   "cell_type": "code",
   "execution_count": 3,
   "metadata": {},
   "outputs": [
    {
     "name": "stdout",
     "output_type": "stream",
     "text": []
    }
   ],
   "source": [
    "print (datos)"
   ]
  },
  {
   "cell_type": "code",
   "execution_count": 4,
   "metadata": {},
   "outputs": [
    {
     "name": "stdout",
     "output_type": "stream",
     "text": []
    }
   ],
   "source": [
    "datos_df = pd.DataFrame({\n",
    "    \"Nombre\": [\"Juan\", \"Ana\", \"Jose\", \"Arturo\"],\n",
    "    \"Edad\": [25, 30, 35, 40],\n",
    "    \"Pais\": [\"MX\", \"CO\", \"AR\", \"BR\"]\n",
    "})\n",
    "\n",
    "print(datos_df)\n"
   ]
  },
  {
   "cell_type": "code",
   "execution_count": 5,
   "metadata": {},
   "outputs": [
    {
     "name": "stdout",
     "output_type": "stream",
     "text": []
    }
   ],
   "source": [
    "print(datos_df[\"Nombre\"][1])"
   ]
  },
  {
   "cell_type": "code",
   "execution_count": 6,
   "metadata": {},
   "outputs": [
    {
     "name": "stdout",
     "output_type": "stream",
     "text": []
    }
   ],
   "source": [
    "print(datos_df[\"Nombre\"])"
   ]
  },
  {
   "cell_type": "code",
   "execution_count": 7,
   "metadata": {},
   "outputs": [
    {
     "name": "stdout",
     "output_type": "stream",
     "text": []
    }
   ],
   "source": [
    "print(datos_df.loc[1])\n",
    "print(datos_df.iloc[1])"
   ]
  },
  {
   "cell_type": "code",
   "execution_count": 8,
   "metadata": {},
   "outputs": [
    {
     "name": "stdout",
     "output_type": "stream",
     "text": []
    }
   ],
   "source": [
    "# Seleccionar filas por etiqueta\n",
    "print(datos_df.loc[0])  # Selecciona la primera fila\n",
    "print(datos_df.loc[0:2]) "
   ]
  },
  {
   "cell_type": "code",
   "execution_count": 9,
   "metadata": {},
   "outputs": [
    {
     "name": "stdout",
     "output_type": "stream",
     "text": []
    }
   ],
   "source": [
    "# Seleccionar filas por etiqueta\n",
    "print(datos_df.loc[0])  # Selecciona la primera fila\n",
    "print(datos_df.loc[0:2]) "
   ]
  },
  {
   "cell_type": "code",
   "execution_count": 10,
   "metadata": {},
   "outputs": [
    {
     "name": "stdout",
     "output_type": "stream",
     "text": []
    }
   ],
   "source": [
    "print(datos_df.loc[0, 'Nombre'])  # Selecciona el valor en la primera fila y la columna 'Nombre'\n",
    "print(datos_df.loc[:, ['Nombre', 'Pais']])  # Selecciona todas las filas pero solo las columnas 'Nombre' y 'Ciudad'"
   ]
  },
  {
   "cell_type": "code",
   "execution_count": 11,
   "metadata": {},
   "outputs": [
    {
     "name": "stdout",
     "output_type": "stream",
     "text": []
    }
   ],
   "source": [
    "mydf = pd.DataFrame({\n",
    "    'Name': ['Juan', 'Ana', 'Jose', 'Arturo', 'Maria'],\n",
    "    'Age': [42,25,64,30,45],\n",
    "    'Country': ['MX', 'CO', 'AR', 'BR', 'MX']\n",
    "})\n",
    "\n",
    "print(mydf['Age'])"
   ]
  },
  {
   "cell_type": "code",
   "execution_count": 12,
   "metadata": {},
   "outputs": [
    {
     "name": "stdout",
     "output_type": "stream",
     "text": []
    }
   ],
   "source": [
    "filter = mydf['Age'] > 30\n",
    "print(filter)\n",
    "print(mydf[filter])"
   ]
  },
  {
   "cell_type": "code",
   "execution_count": 13,
   "metadata": {},
   "outputs": [
    {
     "name": "stdout",
     "output_type": "stream",
     "text": []
    }
   ],
   "source": [
    "mydf['Salary'] = [1000, 2000, 1500, 1800, 2500]  # Nueva columna con sueldos\n",
    "print(mydf)"
   ]
  },
  {
   "cell_type": "code",
   "execution_count": 14,
   "metadata": {},
   "outputs": [
    {
     "name": "stdout",
     "output_type": "stream",
     "text": []
    }
   ],
   "source": [
    "mydf = mydf.drop(columns=['Salary'])\n",
    "print(mydf)\n"
   ]
  },
  {
   "cell_type": "code",
   "execution_count": 15,
   "metadata": {},
   "outputs": [],
   "source": [
    "mydf = mydf.drop(index=[2])"
   ]
  },
  {
   "cell_type": "code",
   "execution_count": 16,
   "metadata": {},
   "outputs": [
    {
     "name": "stdout",
     "output_type": "stream",
     "text": []
    }
   ],
   "source": [
    "print(mydf)"
   ]
  },
  {
   "cell_type": "code",
   "execution_count": 17,
   "metadata": {},
   "outputs": [
    {
     "name": "stdout",
     "output_type": "stream",
     "text": []
    }
   ],
   "source": [
    "mydf = mydf.reset_index(drop=True)\n",
    "print(mydf)"
   ]
  },
  {
   "cell_type": "code",
   "execution_count": 18,
   "metadata": {},
   "outputs": [
    {
     "name": "stdout",
     "output_type": "stream",
     "text": []
    }
   ],
   "source": [
    "# Filtrar personas mayores de 30 años\n",
    "mayores_30 = mydf[mydf['Age'] > 30]\n",
    "print(mayores_30)"
   ]
  },
  {
   "cell_type": "code",
   "execution_count": 19,
   "metadata": {},
   "outputs": [
    {
     "name": "stdout",
     "output_type": "stream",
     "text": []
    },
    {
     "name": "stdout",
     "output_type": "stream",
     "text": []
    }
   ],
   "source": [
    "over30_mex = mydf[mydf['Age'] > 30][mydf['Country'] == 'MX']    \n",
    "print(over30_mex)"
   ]
  },
  {
   "cell_type": "code",
   "execution_count": 20,
   "metadata": {},
   "outputs": [
    {
     "name": "stdout",
     "output_type": "stream",
     "text": []
    }
   ],
   "source": [
    "my_filter = (mydf['Age'] > 30) & (mydf['Country'] == 'MX')\n",
    "print(mydf)\n",
    "print(mydf[my_filter])"
   ]
  },
  {
   "cell_type": "code",
   "execution_count": 21,
   "metadata": {},
   "outputs": [
    {
     "name": "stdout",
     "output_type": "stream",
     "text": []
    }
   ],
   "source": [
    "#Aumentar en 5 anos la edad de todos.\n",
    "print(mydf['Age'])\n",
    "mydf['Age'] = mydf['Age'] + 5\n",
    "print(mydf['Age'])"
   ]
  },
  {
   "cell_type": "code",
   "execution_count": 22,
   "metadata": {},
   "outputs": [
    {
     "name": "stdout",
     "output_type": "stream",
     "text": []
    }
   ],
   "source": [
    "print(mydf)"
   ]
  },
  {
   "cell_type": "code",
   "execution_count": 23,
   "metadata": {},
   "outputs": [
    {
     "name": "stdout",
     "output_type": "stream",
     "text": []
    }
   ],
   "source": [
    "mydf['Salary'] = [50, 60, 90, 100]\n",
    "print(mydf)"
   ]
  },
  {
   "cell_type": "code",
   "execution_count": 24,
   "metadata": {},
   "outputs": [
    {
     "name": "stdout",
     "output_type": "stream",
     "text": []
    }
   ],
   "source": [
    "mydf['Bonus'] = mydf['Salary'] * 0.1\n",
    "newrow = ['Jose', 50, 'MX', 100, 10]\n",
    "mydf.loc[len(mydf)] = newrow\n",
    "mydf.loc[mydf['Name'] == 'Jose' , 'Country'] = 'CL'\n",
    "print(mydf)"
   ]
  },
  {
   "cell_type": "code",
   "execution_count": 25,
   "metadata": {},
   "outputs": [
    {
     "name": "stdout",
     "output_type": "stream",
     "text": []
    }
   ],
   "source": [
    "mydf.describe()"
   ]
  },
  {
   "cell_type": "code",
   "execution_count": 27,
   "metadata": {},
   "outputs": [
    {
     "name": "stdout",
     "output_type": "stream",
     "text": []
    }
   ],
   "source": [
    "print(mydf['Age'].mean())\n",
    "print(mydf['Salary'].median())\n",
    "print(mydf['Bonus'].mode())\n",
    "print(mydf['Age'].std())\n",
    "print(mydf['Salary'].max())\n",
    "print(mydf['Bonus'].min())\t\n"
   ]
  },
  {
   "cell_type": "code",
   "execution_count": null,
   "metadata": {},
   "outputs": [
    {
     "name": "stdout",
     "output_type": "stream",
     "text": []
    }
   ],
   "source": [
    "print(mydf.corr())"
   ]
  },
  {
   "cell_type": "code",
   "execution_count": null,
   "metadata": {},
   "outputs": [],
   "source": []
  }
 ],
 "metadata": {
  "kernelspec": {
   "display_name": "Python 3",
   "language": "python",
   "name": "python3"
  },
  "language_info": {
   "codemirror_mode": {
    "name": "ipython",
    "version": 3
   },
   "file_extension": ".py",
   "mimetype": "text/x-python",
   "name": "python",
   "nbconvert_exporter": "python",
   "pygments_lexer": "ipython3",
   "version": "3.12.1"
  }
 },
 "nbformat": 4,
 "nbformat_minor": 2
}
