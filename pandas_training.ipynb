{
 "cells": [
  {
   "cell_type": "code",
   "execution_count": 1,
   "metadata": {},
   "outputs": [],
   "source": [
    "import pandas as pd\n",
    "datos = pd.Series([10,20,30,40,50])"
   ]
  },
  {
   "cell_type": "code",
   "execution_count": 2,
   "metadata": {},
   "outputs": [
    {
     "name": "stdout",
     "output_type": "stream",
     "text": [
      "0    10\n",
      "1    20\n",
      "2    30\n",
      "3    40\n",
      "4    50\n",
      "dtype: int64\n"
     ]
    }
   ],
   "source": [
    "print (datos)"
   ]
  },
  {
   "cell_type": "code",
   "execution_count": 3,
   "metadata": {},
   "outputs": [
    {
     "name": "stdout",
     "output_type": "stream",
     "text": [
      "   Nombre  Edad Pais\n",
      "0    Juan    25   MX\n",
      "1     Ana    30   CO\n",
      "2    Jose    35   AR\n",
      "3  Arturo    40   BR\n"
     ]
    }
   ],
   "source": [
    "datos_df = pd.DataFrame({\n",
    "    \"Nombre\": [\"Juan\", \"Ana\", \"Jose\", \"Arturo\"],\n",
    "    \"Edad\": [25, 30, 35, 40],\n",
    "    \"Pais\": [\"MX\", \"CO\", \"AR\", \"BR\"]\n",
    "})\n",
    "\n",
    "print(datos_df)\n"
   ]
  },
  {
   "cell_type": "code",
   "execution_count": 4,
   "metadata": {},
   "outputs": [
    {
     "name": "stdout",
     "output_type": "stream",
     "text": [
      "Ana\n"
     ]
    }
   ],
   "source": [
    "print(datos_df[\"Nombre\"][1])"
   ]
  },
  {
   "cell_type": "code",
   "execution_count": 5,
   "metadata": {},
   "outputs": [
    {
     "name": "stdout",
     "output_type": "stream",
     "text": [
      "0      Juan\n",
      "1       Ana\n",
      "2      Jose\n",
      "3    Arturo\n",
      "Name: Nombre, dtype: object\n"
     ]
    }
   ],
   "source": [
    "print(datos_df[\"Nombre\"])"
   ]
  },
  {
   "cell_type": "code",
   "execution_count": 6,
   "metadata": {},
   "outputs": [
    {
     "name": "stdout",
     "output_type": "stream",
     "text": [
      "Nombre    Ana\n",
      "Edad       30\n",
      "Pais       CO\n",
      "Name: 1, dtype: object\n",
      "Nombre    Ana\n",
      "Edad       30\n",
      "Pais       CO\n",
      "Name: 1, dtype: object\n"
     ]
    }
   ],
   "source": [
    "print(datos_df.loc[1])\n",
    "print(datos_df.iloc[1])"
   ]
  },
  {
   "cell_type": "code",
   "execution_count": 7,
   "metadata": {},
   "outputs": [
    {
     "name": "stdout",
     "output_type": "stream",
     "text": [
      "Nombre    Juan\n",
      "Edad        25\n",
      "Pais        MX\n",
      "Name: 0, dtype: object\n",
      "  Nombre  Edad Pais\n",
      "0   Juan    25   MX\n",
      "1    Ana    30   CO\n",
      "2   Jose    35   AR\n"
     ]
    }
   ],
   "source": [
    "# Seleccionar filas por etiqueta\n",
    "print(datos_df.loc[0])  # Selecciona la primera fila\n",
    "print(datos_df.loc[0:2]) "
   ]
  },
  {
   "cell_type": "code",
   "execution_count": 8,
   "metadata": {},
   "outputs": [
    {
     "name": "stdout",
     "output_type": "stream",
     "text": [
      "Nombre    Juan\n",
      "Edad        25\n",
      "Pais        MX\n",
      "Name: 0, dtype: object\n",
      "  Nombre  Edad Pais\n",
      "0   Juan    25   MX\n",
      "1    Ana    30   CO\n",
      "2   Jose    35   AR\n"
     ]
    }
   ],
   "source": [
    "# Seleccionar filas por etiqueta\n",
    "print(datos_df.loc[0])  # Selecciona la primera fila\n",
    "print(datos_df.loc[0:2]) "
   ]
  },
  {
   "cell_type": "code",
   "execution_count": 9,
   "metadata": {},
   "outputs": [
    {
     "name": "stdout",
     "output_type": "stream",
     "text": [
      "Juan\n",
      "   Nombre Pais\n",
      "0    Juan   MX\n",
      "1     Ana   CO\n",
      "2    Jose   AR\n",
      "3  Arturo   BR\n"
     ]
    }
   ],
   "source": [
    "print(datos_df.loc[0, 'Nombre'])  # Selecciona el valor en la primera fila y la columna 'Nombre'\n",
    "print(datos_df.loc[:, ['Nombre', 'Pais']])  # Selecciona todas las filas pero solo las columnas 'Nombre' y 'Ciudad'"
   ]
  },
  {
   "cell_type": "code",
   "execution_count": 10,
   "metadata": {},
   "outputs": [
    {
     "name": "stdout",
     "output_type": "stream",
     "text": [
      "0    42\n",
      "1    25\n",
      "2    64\n",
      "3    30\n",
      "4    45\n",
      "Name: Age, dtype: int64\n"
     ]
    }
   ],
   "source": [
    "mydf = pd.DataFrame({\n",
    "    'Name': ['Juan', 'Ana', 'Jose', 'Arturo', 'Maria'],\n",
    "    'Age': [42,25,64,30,45],\n",
    "    'Country': ['MX', 'CO', 'AR', 'BR', 'MX']\n",
    "})\n",
    "\n",
    "print(mydf['Age'])"
   ]
  },
  {
   "cell_type": "code",
   "execution_count": 11,
   "metadata": {},
   "outputs": [
    {
     "name": "stdout",
     "output_type": "stream",
     "text": [
      "0     True\n",
      "1    False\n",
      "2     True\n",
      "3    False\n",
      "4     True\n",
      "Name: Age, dtype: bool\n",
      "    Name  Age Country\n",
      "0   Juan   42      MX\n",
      "2   Jose   64      AR\n",
      "4  Maria   45      MX\n"
     ]
    }
   ],
   "source": [
    "filter = mydf['Age'] > 30\n",
    "print(filter)\n",
    "print(mydf[filter])"
   ]
  },
  {
   "cell_type": "code",
   "execution_count": 12,
   "metadata": {},
   "outputs": [
    {
     "name": "stdout",
     "output_type": "stream",
     "text": [
      "     Name  Age Country  Salary\n",
      "0    Juan   42      MX    1000\n",
      "1     Ana   25      CO    2000\n",
      "2    Jose   64      AR    1500\n",
      "3  Arturo   30      BR    1800\n",
      "4   Maria   45      MX    2500\n"
     ]
    }
   ],
   "source": [
    "mydf['Salary'] = [1000, 2000, 1500, 1800, 2500]  # Nueva columna con sueldos\n",
    "print(mydf)"
   ]
  },
  {
   "cell_type": "code",
   "execution_count": 13,
   "metadata": {},
   "outputs": [
    {
     "name": "stdout",
     "output_type": "stream",
     "text": [
      "     Name  Age Country\n",
      "0    Juan   42      MX\n",
      "1     Ana   25      CO\n",
      "2    Jose   64      AR\n",
      "3  Arturo   30      BR\n",
      "4   Maria   45      MX\n"
     ]
    }
   ],
   "source": [
    "mydf = mydf.drop(columns=['Salary'])\n",
    "print(mydf)\n"
   ]
  },
  {
   "cell_type": "code",
   "execution_count": 14,
   "metadata": {},
   "outputs": [],
   "source": [
    "mydf = mydf.drop(index=[2])"
   ]
  },
  {
   "cell_type": "code",
   "execution_count": 15,
   "metadata": {},
   "outputs": [
    {
     "name": "stdout",
     "output_type": "stream",
     "text": [
      "     Name  Age Country\n",
      "0    Juan   42      MX\n",
      "1     Ana   25      CO\n",
      "3  Arturo   30      BR\n",
      "4   Maria   45      MX\n"
     ]
    }
   ],
   "source": [
    "print(mydf)"
   ]
  },
  {
   "cell_type": "code",
   "execution_count": 16,
   "metadata": {},
   "outputs": [
    {
     "name": "stdout",
     "output_type": "stream",
     "text": [
      "     Name  Age Country\n",
      "0    Juan   42      MX\n",
      "1     Ana   25      CO\n",
      "2  Arturo   30      BR\n",
      "3   Maria   45      MX\n"
     ]
    }
   ],
   "source": [
    "mydf = mydf.reset_index(drop=True)\n",
    "print(mydf)"
   ]
  },
  {
   "cell_type": "code",
   "execution_count": 17,
   "metadata": {},
   "outputs": [
    {
     "name": "stdout",
     "output_type": "stream",
     "text": [
      "    Name  Age Country\n",
      "0   Juan   42      MX\n",
      "3  Maria   45      MX\n"
     ]
    }
   ],
   "source": [
    "# Filtrar personas mayores de 30 años\n",
    "mayores_30 = mydf[mydf['Age'] > 30]\n",
    "print(mayores_30)"
   ]
  },
  {
   "cell_type": "code",
   "execution_count": 18,
   "metadata": {},
   "outputs": [
    {
     "name": "stdout",
     "output_type": "stream",
     "text": [
      "    Name  Age Country\n",
      "0   Juan   42      MX\n",
      "3  Maria   45      MX\n"
     ]
    },
    {
     "name": "stderr",
     "output_type": "stream",
     "text": [
      "/tmp/ipykernel_1658/2067405743.py:1: UserWarning: Boolean Series key will be reindexed to match DataFrame index.\n",
      "  over30_mex = mydf[mydf['Age'] > 30][mydf['Country'] == 'MX']\n"
     ]
    }
   ],
   "source": [
    "over30_mex = mydf[mydf['Age'] > 30][mydf['Country'] == 'MX']    \n",
    "print(over30_mex)"
   ]
  },
  {
   "cell_type": "code",
   "execution_count": 19,
   "metadata": {},
   "outputs": [
    {
     "name": "stdout",
     "output_type": "stream",
     "text": [
      "     Name  Age Country\n",
      "0    Juan   42      MX\n",
      "1     Ana   25      CO\n",
      "2  Arturo   30      BR\n",
      "3   Maria   45      MX\n",
      "    Name  Age Country\n",
      "0   Juan   42      MX\n",
      "3  Maria   45      MX\n"
     ]
    }
   ],
   "source": [
    "my_filter = (mydf['Age'] > 30) & (mydf['Country'] == 'MX')\n",
    "print(mydf)\n",
    "print(mydf[my_filter])"
   ]
  },
  {
   "cell_type": "code",
   "execution_count": 20,
   "metadata": {},
   "outputs": [
    {
     "name": "stdout",
     "output_type": "stream",
     "text": [
      "0    42\n",
      "1    25\n",
      "2    30\n",
      "3    45\n",
      "Name: Age, dtype: int64\n",
      "0    47\n",
      "1    30\n",
      "2    35\n",
      "3    50\n",
      "Name: Age, dtype: int64\n"
     ]
    }
   ],
   "source": [
    "#Aumentar en 5 anos la edad de todos.\n",
    "print(mydf['Age'])\n",
    "mydf['Age'] = mydf['Age'] + 5\n",
    "print(mydf['Age'])"
   ]
  },
  {
   "cell_type": "code",
   "execution_count": 21,
   "metadata": {},
   "outputs": [
    {
     "name": "stdout",
     "output_type": "stream",
     "text": [
      "     Name  Age Country\n",
      "0    Juan   47      MX\n",
      "1     Ana   30      CO\n",
      "2  Arturo   35      BR\n",
      "3   Maria   50      MX\n"
     ]
    }
   ],
   "source": [
    "print(mydf)"
   ]
  },
  {
   "cell_type": "code",
   "execution_count": 22,
   "metadata": {},
   "outputs": [
    {
     "name": "stdout",
     "output_type": "stream",
     "text": [
      "     Name  Age Country  Salary\n",
      "0    Juan   47      MX      50\n",
      "1     Ana   30      CO      60\n",
      "2  Arturo   35      BR      90\n",
      "3   Maria   50      MX     100\n"
     ]
    }
   ],
   "source": [
    "mydf['Salary'] = [50, 60, 90, 100]\n",
    "print(mydf)"
   ]
  },
  {
   "cell_type": "code",
   "execution_count": 23,
   "metadata": {},
   "outputs": [
    {
     "name": "stdout",
     "output_type": "stream",
     "text": [
      "     Name  Age Country  Salary  Bonus\n",
      "0    Juan   47      MX      50    5.0\n",
      "1     Ana   30      CO      60    6.0\n",
      "2  Arturo   35      BR      90    9.0\n",
      "3   Maria   50      MX     100   10.0\n",
      "4    Jose   50      CL     100   10.0\n"
     ]
    }
   ],
   "source": [
    "mydf['Bonus'] = mydf['Salary'] * 0.1\n",
    "newrow = ['Jose', 50, 'MX', 100, 10]\n",
    "mydf.loc[len(mydf)] = newrow\n",
    "mydf.loc[mydf['Name'] == 'Jose' , 'Country'] = 'CL'\n",
    "print(mydf)"
   ]
  },
  {
   "cell_type": "code",
   "execution_count": 24,
   "metadata": {},
   "outputs": [
    {
     "data": {
      "text/html": [
       "<div>\n",
       "<style scoped>\n",
       "    .dataframe tbody tr th:only-of-type {\n",
       "        vertical-align: middle;\n",
       "    }\n",
       "\n",
       "    .dataframe tbody tr th {\n",
       "        vertical-align: top;\n",
       "    }\n",
       "\n",
       "    .dataframe thead th {\n",
       "        text-align: right;\n",
       "    }\n",
       "</style>\n",
       "<table border=\"1\" class=\"dataframe\">\n",
       "  <thead>\n",
       "    <tr style=\"text-align: right;\">\n",
       "      <th></th>\n",
       "      <th>Age</th>\n",
       "      <th>Salary</th>\n",
       "      <th>Bonus</th>\n",
       "    </tr>\n",
       "  </thead>\n",
       "  <tbody>\n",
       "    <tr>\n",
       "      <th>count</th>\n",
       "      <td>5.000000</td>\n",
       "      <td>5.000000</td>\n",
       "      <td>5.000000</td>\n",
       "    </tr>\n",
       "    <tr>\n",
       "      <th>mean</th>\n",
       "      <td>42.400000</td>\n",
       "      <td>80.000000</td>\n",
       "      <td>8.000000</td>\n",
       "    </tr>\n",
       "    <tr>\n",
       "      <th>std</th>\n",
       "      <td>9.289779</td>\n",
       "      <td>23.452079</td>\n",
       "      <td>2.345208</td>\n",
       "    </tr>\n",
       "    <tr>\n",
       "      <th>min</th>\n",
       "      <td>30.000000</td>\n",
       "      <td>50.000000</td>\n",
       "      <td>5.000000</td>\n",
       "    </tr>\n",
       "    <tr>\n",
       "      <th>25%</th>\n",
       "      <td>35.000000</td>\n",
       "      <td>60.000000</td>\n",
       "      <td>6.000000</td>\n",
       "    </tr>\n",
       "    <tr>\n",
       "      <th>50%</th>\n",
       "      <td>47.000000</td>\n",
       "      <td>90.000000</td>\n",
       "      <td>9.000000</td>\n",
       "    </tr>\n",
       "    <tr>\n",
       "      <th>75%</th>\n",
       "      <td>50.000000</td>\n",
       "      <td>100.000000</td>\n",
       "      <td>10.000000</td>\n",
       "    </tr>\n",
       "    <tr>\n",
       "      <th>max</th>\n",
       "      <td>50.000000</td>\n",
       "      <td>100.000000</td>\n",
       "      <td>10.000000</td>\n",
       "    </tr>\n",
       "  </tbody>\n",
       "</table>\n",
       "</div>"
      ],
      "text/plain": [
       "             Age      Salary      Bonus\n",
       "count   5.000000    5.000000   5.000000\n",
       "mean   42.400000   80.000000   8.000000\n",
       "std     9.289779   23.452079   2.345208\n",
       "min    30.000000   50.000000   5.000000\n",
       "25%    35.000000   60.000000   6.000000\n",
       "50%    47.000000   90.000000   9.000000\n",
       "75%    50.000000  100.000000  10.000000\n",
       "max    50.000000  100.000000  10.000000"
      ]
     },
     "execution_count": 24,
     "metadata": {},
     "output_type": "execute_result"
    }
   ],
   "source": [
    "mydf.describe()"
   ]
  },
  {
   "cell_type": "code",
   "execution_count": 25,
   "metadata": {},
   "outputs": [
    {
     "name": "stdout",
     "output_type": "stream",
     "text": [
      "42.4\n",
      "90.0\n",
      "0    10.0\n",
      "Name: Bonus, dtype: float64\n",
      "9.289779329994872\n",
      "100\n",
      "5.0\n"
     ]
    }
   ],
   "source": [
    "print(mydf['Age'].mean())\n",
    "print(mydf['Salary'].median())\n",
    "print(mydf['Bonus'].mode())\n",
    "print(mydf['Age'].std())\n",
    "print(mydf['Salary'].max())\n",
    "print(mydf['Bonus'].min())\t\n"
   ]
  },
  {
   "cell_type": "code",
   "execution_count": 26,
   "metadata": {},
   "outputs": [
    {
     "name": "stdout",
     "output_type": "stream",
     "text": [
      "   Edad  Salario  Experiencia\n",
      "0    23    50000            1\n",
      "1    35    60000           10\n",
      "2    30    70000            5\n",
      "3    22    80000            2\n",
      "4    40    90000           15\n",
      "                 Edad   Salario  Experiencia\n",
      "Edad         1.000000  0.430458     0.979507\n",
      "Salario      0.430458  1.000000     0.539949\n",
      "Experiencia  0.979507  0.539949     1.000000\n"
     ]
    }
   ],
   "source": [
    "# Crear un DataFrame de ejemplo\n",
    "data = {\n",
    "    'Edad': [23, 35, 30, 22, 40],\n",
    "    'Salario': [50000, 60000, 70000, 80000, 90000],\n",
    "    'Experiencia': [1, 10, 5, 2, 15]\n",
    "}\n",
    "df = pd.DataFrame(data)\n",
    "\n",
    "# Calcular la matriz de correlación\n",
    "correlacion = df.corr()\n",
    "\n",
    "print(df)\n",
    "print(correlacion)"
   ]
  },
  {
   "cell_type": "code",
   "execution_count": 27,
   "metadata": {},
   "outputs": [
    {
     "name": "stdout",
     "output_type": "stream",
     "text": [
      "Country\n",
      "MX    2\n",
      "CO    1\n",
      "BR    1\n",
      "CL    1\n",
      "Name: count, dtype: int64\n",
      "4\n"
     ]
    }
   ],
   "source": [
    "# La función corr() calcula la correlación entre las columnas numéricas del DataFrame.\n",
    "# La correlación mide la relación entre dos variables, con valores entre -1 y 1.\n",
    "# Un valor de 1 indica una correlación positiva perfecta, -1 una correlación negativa perfecta, y 0 ninguna correlación.\n",
    "print(mydf['Country'].value_counts())  # Cuenta cuántas veces aparece cada país en la columna\n",
    "print(mydf['Country'].nunique())  # Número de categorías únicas"
   ]
  },
  {
   "cell_type": "code",
   "execution_count": null,
   "metadata": {},
   "outputs": [],
   "source": []
  }
 ],
 "metadata": {
  "kernelspec": {
   "display_name": "venv",
   "language": "python",
   "name": "python3"
  },
  "language_info": {
   "codemirror_mode": {
    "name": "ipython",
    "version": 3
   },
   "file_extension": ".py",
   "mimetype": "text/x-python",
   "name": "python",
   "nbconvert_exporter": "python",
   "pygments_lexer": "ipython3",
   "version": "3.12.1"
  }
 },
 "nbformat": 4,
 "nbformat_minor": 2
}
