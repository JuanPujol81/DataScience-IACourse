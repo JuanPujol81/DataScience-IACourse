{
 "cells": [
  {
   "cell_type": "code",
   "execution_count": 17,
   "metadata": {},
   "outputs": [],
   "source": [
    "import pandas as pd"
   ]
  },
  {
   "cell_type": "code",
   "execution_count": 18,
   "metadata": {},
   "outputs": [],
   "source": [
    "datos = pd.Series([10,20,30,40,50])"
   ]
  },
  {
   "cell_type": "code",
   "execution_count": 19,
   "metadata": {},
   "outputs": [
    {
     "name": "stdout",
     "output_type": "stream",
     "text": [
      "0    10\n",
      "1    20\n",
      "2    30\n",
      "3    40\n",
      "4    50\n",
      "dtype: int64\n"
     ]
    }
   ],
   "source": [
    "print (datos)"
   ]
  },
  {
   "cell_type": "code",
   "execution_count": 20,
   "metadata": {},
   "outputs": [
    {
     "name": "stdout",
     "output_type": "stream",
     "text": [
      "   Nombre  Edad Pais\n",
      "0    Juan    25   MX\n",
      "1     Ana    30   CO\n",
      "2    Jose    35   AR\n",
      "3  Arturo    40   BR\n"
     ]
    }
   ],
   "source": [
    "datos_df = pd.DataFrame({\n",
    "    \"Nombre\": [\"Juan\", \"Ana\", \"Jose\", \"Arturo\"],\n",
    "    \"Edad\": [25, 30, 35, 40],\n",
    "    \"Pais\": [\"MX\", \"CO\", \"AR\", \"BR\"]\n",
    "})\n",
    "\n",
    "print(datos_df)\n"
   ]
  },
  {
   "cell_type": "code",
   "execution_count": 21,
   "metadata": {},
   "outputs": [
    {
     "name": "stdout",
     "output_type": "stream",
     "text": [
      "Ana\n"
     ]
    }
   ],
   "source": [
    "print(datos_df[\"Nombre\"][1])"
   ]
  },
  {
   "cell_type": "code",
   "execution_count": 22,
   "metadata": {},
   "outputs": [
    {
     "name": "stdout",
     "output_type": "stream",
     "text": [
      "0      Juan\n",
      "1       Ana\n",
      "2      Jose\n",
      "3    Arturo\n",
      "Name: Nombre, dtype: object\n"
     ]
    }
   ],
   "source": [
    "print(datos_df[\"Nombre\"])"
   ]
  },
  {
   "cell_type": "code",
   "execution_count": 23,
   "metadata": {},
   "outputs": [
    {
     "name": "stdout",
     "output_type": "stream",
     "text": [
      "Nombre    Ana\n",
      "Edad       30\n",
      "Pais       CO\n",
      "Name: 1, dtype: object\n",
      "Nombre    Ana\n",
      "Edad       30\n",
      "Pais       CO\n",
      "Name: 1, dtype: object\n"
     ]
    }
   ],
   "source": [
    "print(datos_df.loc[1])\n",
    "print(datos_df.iloc[1])"
   ]
  },
  {
   "cell_type": "code",
   "execution_count": 24,
   "metadata": {},
   "outputs": [
    {
     "name": "stdout",
     "output_type": "stream",
     "text": [
      "Nombre    Juan\n",
      "Edad        25\n",
      "Pais        MX\n",
      "Name: 0, dtype: object\n",
      "  Nombre  Edad Pais\n",
      "0   Juan    25   MX\n",
      "1    Ana    30   CO\n",
      "2   Jose    35   AR\n"
     ]
    }
   ],
   "source": [
    "# Seleccionar filas por etiqueta\n",
    "print(datos_df.loc[0])  # Selecciona la primera fila\n",
    "print(datos_df.loc[0:2]) "
   ]
  },
  {
   "cell_type": "code",
   "execution_count": 25,
   "metadata": {},
   "outputs": [
    {
     "name": "stdout",
     "output_type": "stream",
     "text": [
      "Nombre    Juan\n",
      "Edad        25\n",
      "Pais        MX\n",
      "Name: 0, dtype: object\n",
      "  Nombre  Edad Pais\n",
      "0   Juan    25   MX\n",
      "1    Ana    30   CO\n",
      "2   Jose    35   AR\n"
     ]
    }
   ],
   "source": [
    "# Seleccionar filas por etiqueta\n",
    "print(datos_df.loc[0])  # Selecciona la primera fila\n",
    "print(datos_df.loc[0:2]) "
   ]
  },
  {
   "cell_type": "code",
   "execution_count": 26,
   "metadata": {},
   "outputs": [
    {
     "name": "stdout",
     "output_type": "stream",
     "text": [
      "Juan\n",
      "   Nombre Pais\n",
      "0    Juan   MX\n",
      "1     Ana   CO\n",
      "2    Jose   AR\n",
      "3  Arturo   BR\n"
     ]
    }
   ],
   "source": [
    "print(datos_df.loc[0, 'Nombre'])  # Selecciona el valor en la primera fila y la columna 'Nombre'\n",
    "print(datos_df.loc[:, ['Nombre', 'Pais']])  # Selecciona todas las filas pero solo las columnas 'Nombre' y 'Ciudad'"
   ]
  },
  {
   "cell_type": "code",
   "execution_count": 27,
   "metadata": {},
   "outputs": [
    {
     "name": "stdout",
     "output_type": "stream",
     "text": [
      "0    42\n",
      "1    25\n",
      "2    64\n",
      "3    30\n",
      "4    45\n",
      "Name: Age, dtype: int64\n"
     ]
    }
   ],
   "source": [
    "mydf = pd.DataFrame({\n",
    "    'Name': ['Juan', 'Ana', 'Jose', 'Arturo', 'Maria'],\n",
    "    'Age': [42,25,64,30,45],\n",
    "    'Country': ['MX', 'CO', 'AR', 'BR', 'MX']\n",
    "})\n",
    "\n",
    "print(mydf['Age'])"
   ]
  },
  {
   "cell_type": "code",
   "execution_count": 28,
   "metadata": {},
   "outputs": [
    {
     "name": "stdout",
     "output_type": "stream",
     "text": [
      "0     True\n",
      "1    False\n",
      "2     True\n",
      "3    False\n",
      "4     True\n",
      "Name: Age, dtype: bool\n",
      "    Name  Age Country\n",
      "0   Juan   42      MX\n",
      "2   Jose   64      AR\n",
      "4  Maria   45      MX\n"
     ]
    }
   ],
   "source": [
    "filter = mydf['Age'] > 30\n",
    "print(filter)\n",
    "print(mydf[filter])"
   ]
  },
  {
   "cell_type": "code",
   "execution_count": 29,
   "metadata": {},
   "outputs": [
    {
     "name": "stdout",
     "output_type": "stream",
     "text": [
      "     Name  Age Country  Salary\n",
      "0    Juan   42      MX    1000\n",
      "1     Ana   25      CO    2000\n",
      "2    Jose   64      AR    1500\n",
      "3  Arturo   30      BR    1800\n",
      "4   Maria   45      MX    2500\n"
     ]
    }
   ],
   "source": [
    "mydf['Salary'] = [1000, 2000, 1500, 1800, 2500]  # Nueva columna con sueldos\n",
    "print(mydf)"
   ]
  },
  {
   "cell_type": "code",
   "execution_count": 30,
   "metadata": {},
   "outputs": [
    {
     "name": "stdout",
     "output_type": "stream",
     "text": [
      "     Name  Age Country  Salary\n",
      "0    Juan   42      MX    1000\n",
      "1     Ana   25      CO    2000\n",
      "2    Jose   64      AR    1500\n",
      "3  Arturo   30      BR    1800\n",
      "4   Maria   45      MX    2500\n"
     ]
    }
   ],
   "source": [
    "mydf.drop(columns=['Salary'])\n",
    "print(mydf)\n"
   ]
  }
 ],
 "metadata": {
  "kernelspec": {
   "display_name": "venv",
   "language": "python",
   "name": "python3"
  },
  "language_info": {
   "codemirror_mode": {
    "name": "ipython",
    "version": 3
   },
   "file_extension": ".py",
   "mimetype": "text/x-python",
   "name": "python",
   "nbconvert_exporter": "python",
   "pygments_lexer": "ipython3",
   "version": "3.12.1"
  }
 },
 "nbformat": 4,
 "nbformat_minor": 2
}
