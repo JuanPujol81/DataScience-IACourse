{
 "cells": [
  {
   "cell_type": "code",
   "execution_count": 1,
   "metadata": {},
   "outputs": [],
   "source": [
    "try:\n",
    "    import pandas as pd\n",
    "except ImportError:\n",
    "    print(\"Pandas no está instalado. Por favor, instálalo usando 'pip install pandas'.\")"
   ]
  },
  {
   "cell_type": "code",
   "execution_count": 2,
   "metadata": {},
   "outputs": [
    {
     "name": "stdout",
     "output_type": "stream",
     "text": [
      "Pandas está instalado\n"
     ]
    }
   ],
   "source": [
    "# Verificar si pandas está instalado\n",
    "try:\n",
    "    import pandas\n",
    "    print(\"Pandas está instalado\")\n",
    "except ImportError:\n",
    "    print(\"Pandas no está instalado\")"
   ]
  },
  {
   "cell_type": "code",
   "execution_count": 3,
   "metadata": {},
   "outputs": [],
   "source": [
    "new_df = pd.DataFrame({\n",
    "    'Name': ['Alice', 'Bob', 'Charlie', 'David'],\n",
    "    'Age': [24, 30, 22, 35],\n",
    "    'Country': ['USA', 'Canada', 'UK', 'Australia'],\n",
    "    'Salary': [50000, 60000, 55000, 70000],\n",
    "    'Experience': [2, 5, 1, 7]\n",
    "})\n"
   ]
  },
  {
   "cell_type": "code",
   "execution_count": 8,
   "metadata": {},
   "outputs": [
    {
     "name": "stdout",
     "output_type": "stream",
     "text": [
      "Salario medio y mediana por país:\n",
      "              mean   median\n",
      "Country                    \n",
      "Australia  70000.0  70000.0\n",
      "Canada     60000.0  60000.0\n",
      "UK         55000.0  55000.0\n",
      "USA        50000.0  50000.0\n"
     ]
    }
   ],
   "source": [
    "salary_mean_median = new_df.groupby('Country')['Salary'].agg(['mean', 'median'])\n",
    "print (\"Salario medio y mediana por país:\")\n",
    "print (salary_mean_median)\n"
   ]
  },
  {
   "cell_type": "markdown",
   "metadata": {},
   "source": [
    "### Uso de la función `f` para imprimir\n",
    "La función `f` se utiliza para formatear cadenas en Python. Permite insertar variables directamente dentro de una cadena utilizando llaves `{}`.\n",
    "\n",
    "Por ejemplo:\n",
    "```python\n",
    "nombre = \"Juan\"\n",
    "edad = 25\n",
    "print(f\"Mi nombre es {nombre} y tengo {edad} años.\")\n",
    "```\n",
    "Esto imprimirá: `Mi nombre es Juan y tengo 25 años.`"
   ]
  },
  {
   "cell_type": "code",
   "execution_count": 9,
   "metadata": {},
   "outputs": [
    {
     "name": "stdout",
     "output_type": "stream",
     "text": [
      "Número de empleados por país:\n",
      "Country\n",
      "Australia    1\n",
      "Canada       1\n",
      "UK           1\n",
      "USA          1\n",
      "Name: count, dtype: int64\n"
     ]
    }
   ],
   "source": [
    "employee_country = new_df.value_counts('Country')\n",
    "print (\"Número de empleados por país:\")\n",
    "print (employee_country)"
   ]
  },
  {
   "cell_type": "code",
   "execution_count": 11,
   "metadata": {},
   "outputs": [
    {
     "name": "stdout",
     "output_type": "stream",
     "text": [
      "    Name  Age    Country  Salary  Experience\n",
      "1    Bob   30     Canada   60000           5\n",
      "3  David   35  Australia   70000           7\n",
      "    Name  Age    Country  Salary  Experience\n",
      "3  David   35  Australia   70000           7\n"
     ]
    }
   ],
   "source": [
    "#PAra adaptar la tabla al ejercicio pondre donde sea el salario mayor o igual a 60000\n",
    "print(new_df[new_df['Salary']>=60000])\n",
    "\n",
    "#Para adaptar al ejercicio imprimire los de Australia donde el salario sea mayor o igual a 70000\n",
    "print(new_df[(new_df['Country']=='Australia') & (new_df['Salary']>=70000)])\n",
    "      "
   ]
  },
  {
   "cell_type": "code",
   "execution_count": 12,
   "metadata": {},
   "outputs": [
    {
     "name": "stdout",
     "output_type": "stream",
     "text": [
      "Country\n",
      "USA          1\n",
      "Canada       1\n",
      "UK           1\n",
      "Australia    1\n",
      "Name: count, dtype: int64\n"
     ]
    }
   ],
   "source": [
    "empleados_por_pais = new_df['Country'].value_counts()\n",
    "print(empleados_por_pais)"
   ]
  },
  {
   "cell_type": "code",
   "execution_count": null,
   "metadata": {},
   "outputs": [],
   "source": []
  }
 ],
 "metadata": {
  "kernelspec": {
   "display_name": "Python 3",
   "language": "python",
   "name": "python3"
  },
  "language_info": {
   "codemirror_mode": {
    "name": "ipython",
    "version": 3
   },
   "file_extension": ".py",
   "mimetype": "text/x-python",
   "name": "python",
   "nbconvert_exporter": "python",
   "pygments_lexer": "ipython3",
   "version": "3.12.1"
  }
 },
 "nbformat": 4,
 "nbformat_minor": 2
}
