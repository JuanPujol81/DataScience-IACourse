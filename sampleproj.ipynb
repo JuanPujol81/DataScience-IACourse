{
 "cells": [
  {
   "cell_type": "code",
   "execution_count": 1,
   "id": "cbc3d5c4-6018-4a88-8b9e-89562ad17459",
   "metadata": {},
   "outputs": [],
   "source": [
    "import pandas as pd\n",
    "import numpy as np\n",
    "import matplotlib.pyplot as plt\n",
    "import sklearn"
   ]
  },
  {
   "cell_type": "code",
   "execution_count": 2,
   "id": "209d1de9-94cb-4e3a-adac-6e256197debb",
   "metadata": {},
   "outputs": [
    {
     "data": {
      "text/plain": [
       "'/home/raul/UDemy/DataScientistCourse/SampleProj'"
      ]
     },
     "execution_count": 2,
     "metadata": {},
     "output_type": "execute_result"
    }
   ],
   "source": [
    "pwd\n"
   ]
  },
  {
   "cell_type": "markdown",
   "id": "ccdb7208-2157-48f0-9bd8-7e6a8de9cbc7",
   "metadata": {},
   "source": [
    "This is the GitHub location of the IA and Machine Learning Course resources.\n",
    "https://github.com/mrdbourke/zero-to-mastery-ml\n"
   ]
  },
  {
   "cell_type": "code",
   "execution_count": null,
   "id": "69aa068a-7c29-4afd-8d15-0a9fcb1798de",
   "metadata": {},
   "outputs": [],
   "source": []
  }
 ],
 "metadata": {
  "kernelspec": {
   "display_name": "Python 3 (ipykernel)",
   "language": "python",
   "name": "python3"
  },
  "language_info": {
   "codemirror_mode": {
    "name": "ipython",
    "version": 3
   },
   "file_extension": ".py",
   "mimetype": "text/x-python",
   "name": "python",
   "nbconvert_exporter": "python",
   "pygments_lexer": "ipython3",
   "version": "3.12.3"
  }
 },
 "nbformat": 4,
 "nbformat_minor": 5
}
