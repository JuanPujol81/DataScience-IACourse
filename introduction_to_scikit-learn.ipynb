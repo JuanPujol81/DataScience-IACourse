{
 "cells": [
  {
   "cell_type": "markdown",
   "metadata": {},
   "source": [
    "Introduction to scykit-learn:\n",
    "This notebook demonstrates some of the most useful functions of the scykit-learn library. The library is a collection of machine learning algorithms and tools for data mining tasks. It is built on NumPy, SciPy, and matplotlib. The library is very well documented and you can find the documentation at http://scikit-learn.org/stable/documentation.html\n",
    "\n",
    "Topics to cover:\n",
    "\n",
    "1. An end-to-end scikit-learn workflow\n",
    "2. Getting the data ready\n",
    "3. Choose the right estimator/algorithm for our problems\n",
    "4. Fit the model/algorithm and use it to make predictions on our data\n",
    "5. Evaluating a model\n",
    "6. Improve a model\n",
    "7. Save and load a trained model\n",
    "8. Putting it all together!"
   ]
  },
  {
   "cell_type": "code",
   "execution_count": null,
   "metadata": {
    "vscode": {
     "languageId": "plaintext"
    }
   },
   "outputs": [],
   "source": []
  }
 ],
 "metadata": {
  "language_info": {
   "name": "python"
  }
 },
 "nbformat": 4,
 "nbformat_minor": 2
}
